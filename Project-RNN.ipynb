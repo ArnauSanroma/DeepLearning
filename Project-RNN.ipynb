{
 "cells": [
  {
   "cell_type": "code",
   "execution_count": 1,
   "metadata": {},
   "outputs": [],
   "source": [
    "import numpy as np\n",
    "\n",
    "from torchtext import data\n",
    "from torchtext import datasets\n",
    "from torchtext.vocab import Vectors, GloVe\n",
    "\n",
    "import torch\n",
    "from torch.autograd import Variable\n",
    "import torch.nn as nn\n",
    "import torch.optim as optim\n",
    "from torch.nn import Linear, RNN, LSTM\n",
    "from torch.nn.functional import softmax, relu\n",
    "\n",
    "from sklearn.manifold import TSNE\n",
    "import h5py"
   ]
  },
  {
   "cell_type": "code",
   "execution_count": 3,
   "metadata": {},
   "outputs": [],
   "source": [
    "# Load data\n",
    "with h5py.File('C:/Users/jovog/OneDrive/Documents/50000_dataset.hdf5', 'r') as hf:\n",
    "    data = hf['data'][:]\n",
    "    label = hf['label'][:]"
   ]
  },
  {
   "cell_type": "code",
   "execution_count": 4,
   "metadata": {},
   "outputs": [
    {
     "name": "stdout",
     "output_type": "stream",
     "text": [
      "999\n"
     ]
    }
   ],
   "source": [
    "# Batch making\n",
    "batch_size = 100\n",
    "seq = [] #Initalize\n",
    "current_user = -1\n",
    "for i in range(data.shape[0]): # going through the data and sorting into user sequences\n",
    "    if data[i,0]!=current_user:\n",
    "        current_user = data[i,0]\n",
    "        seq.append([data[i,1]])\n",
    "    else:\n",
    "        seq[-1].append(data[i,1]) # new user line\n",
    "max_length = max([len(x) for x in seq])\n",
    "print(max_length)"
   ]
  },
  {
   "cell_type": "code",
   "execution_count": 15,
   "metadata": {},
   "outputs": [
    {
     "name": "stdout",
     "output_type": "stream",
     "text": [
      "17770\n"
     ]
    }
   ],
   "source": [
    "data[:,1] += 1\n",
    "print(max(data[:,1]))"
   ]
  },
  {
   "cell_type": "code",
   "execution_count": 8,
   "metadata": {},
   "outputs": [],
   "source": [
    "# Zero padding\n",
    "penis = np.zeros((len(seq),max_length),dtype=int)\n",
    "for i in range(len(seq)):\n",
    "    penis[i,0:len(seq[i])] = seq[i]"
   ]
  },
  {
   "cell_type": "code",
   "execution_count": 12,
   "metadata": {},
   "outputs": [
    {
     "name": "stdout",
     "output_type": "stream",
     "text": [
      "Net(\n",
      "  (one_hot): Embedding(1001, 1001)\n",
      "  (rnn): LSTM(1001, 100, batch_first=True)\n",
      "  (l_out): Linear(in_features=100, out_features=17770, bias=False)\n",
      ")\n"
     ]
    }
   ],
   "source": [
    "# Define network\n",
    "output_size = 17770\n",
    "num_input = 17770\n",
    "hidden_size = 100\n",
    "\n",
    "class Net(nn.Module):\n",
    "    def __init__(self):\n",
    "        super(Net, self).__init__()\n",
    "        \n",
    "        self.one_hot = nn.Embedding(num_input, num_input)\n",
    "        self.one_hot.weight.data = torch.eye(num_input)\n",
    "        self.one_hot.weight.detach_()\n",
    "        self.rnn = LSTM(input_size=num_input,\n",
    "                        hidden_size=100,\n",
    "                        num_layers=1,\n",
    "                        bidirectional=False,\n",
    "                        batch_first = True)\n",
    "        self.l_out = Linear(in_features=hidden_size,\n",
    "                            out_features=output_size,\n",
    "                            bias=False)\n",
    "    \n",
    "    def forward(self, x):\n",
    "        out = {}\n",
    "        x = self.one_hot(x)\n",
    "        \n",
    "        x, hn = self.rnn(x)\n",
    "        \n",
    "        out = softmax(self.l_out(x), dim=1)\n",
    "        return out\n",
    "\n",
    "net = Net()\n",
    "print(net)"
   ]
  },
  {
   "cell_type": "code",
   "execution_count": 13,
   "metadata": {},
   "outputs": [
    {
     "data": {
      "text/plain": [
       "{'one_hot.weight': False,\n",
       " 'rnn.weight_ih_l0': True,\n",
       " 'rnn.weight_hh_l0': True,\n",
       " 'rnn.bias_ih_l0': True,\n",
       " 'rnn.bias_hh_l0': True,\n",
       " 'l_out.weight': True}"
      ]
     },
     "execution_count": 13,
     "metadata": {},
     "output_type": "execute_result"
    }
   ],
   "source": [
    "{p[0]: p[1].requires_grad for p in net.named_parameters()}"
   ]
  },
  {
   "cell_type": "code",
   "execution_count": null,
   "metadata": {},
   "outputs": [],
   "source": [
    "# Network check\n",
    "output = net(data_torch)"
   ]
  },
  {
   "cell_type": "code",
   "execution_count": null,
   "metadata": {},
   "outputs": [],
   "source": []
  }
 ],
 "metadata": {
  "kernelspec": {
   "display_name": "Python 3",
   "language": "python",
   "name": "python3"
  },
  "language_info": {
   "codemirror_mode": {
    "name": "ipython",
    "version": 3
   },
   "file_extension": ".py",
   "mimetype": "text/x-python",
   "name": "python",
   "nbconvert_exporter": "python",
   "pygments_lexer": "ipython3",
   "version": "3.6.3"
  }
 },
 "nbformat": 4,
 "nbformat_minor": 2
}
